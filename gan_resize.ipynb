{
 "cells": [
  {
   "cell_type": "code",
   "execution_count": null,
   "metadata": {},
   "outputs": [],
   "source": [
    "%matplotlib inline\n",
    "\n",
    "import importlib\n",
    "import gan_resize\n",
    "\n",
    "importlib.reload(gan_resize)\n",
    "\n",
    "print(\"start\")\n",
    "\n",
    "gan_resize.main(\"alex-resize-128\", 200, True)\n"
   ]
  }
 ],
 "metadata": {
  "language_info": {
   "name": "python"
  },
  "orig_nbformat": 4
 },
 "nbformat": 4,
 "nbformat_minor": 2
}
