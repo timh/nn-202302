{
 "cells": [
  {
   "cell_type": "code",
   "execution_count": 9,
   "id": "31521aa9-8e77-4076-88ee-86be422ab49d",
   "metadata": {},
   "outputs": [],
   "source": [
    "import sys\n",
    "import math\n",
    "import matplotlib.pyplot as plt\n",
    "\n",
    "import torch\n",
    "from torch.utils.data import DataLoader\n",
    "\n",
    "sys.path.insert(0, \"..\")\n",
    "import model_utils\n",
    "import model_xformers_tutorial as mxt\n",
    "\n",
    "filename = \"runs/mm-ss4tut3-seq_len 64, wordmaxlen 2, nhead 4, nlayers 2, hidden_len 64, emb_len 32, vocab_len 689, dropout 0.2, batch_size 2048, batches_per_epoch 4, total_epochs 5000.torch\"\n",
    "\n",
    "net: mxt.TransformerModel = torch.load(filename)\n"
   ]
  },
  {
   "cell_type": "code",
   "execution_count": 10,
   "id": "f38891aa-58f7-4a7d-99da-78506c18a84e",
   "metadata": {},
   "outputs": [
    {
     "name": "stdout",
     "output_type": "stream",
     "text": [
      "TextMapper: seq_len=64 self.vocab_len=689\n"
     ]
    }
   ],
   "source": [
    "textmap = model_utils.TextMapper(seq_len=64, filename=\"shakespeare.txt\", wordmaxlen=2, device=\"cuda\", dtype=torch.long)\n",
    "all_pairs = textmap.as_pairs()\n",
    "dataloader = DataLoader(all_pairs, batch_size=1, shuffle=True)\n",
    "\n",
    "dataloader_it = iter(dataloader)\n"
   ]
  },
  {
   "cell_type": "code",
   "execution_count": 15,
   "id": "9237f4bd-43b6-43fc-bdaa-69f36d9b5f75",
   "metadata": {},
   "outputs": [
    {
     "name": "stdout",
     "output_type": "stream",
     "text": [
      "^Look you, sir, here is the hand and seal of the ^duke: you know the character, I doubt not;\n",
      " 123456789 123456789 123456789 123456789 123456789 123456789 123456789 123456789 123456789 1\n",
      "0         1         2         3         4         5         6         7         8         9         \n"
     ]
    },
    {
     "data": {
      "text/plain": [
       "<matplotlib.image.AxesImage at 0x7fbcaf4c8340>"
      ]
     },
     "execution_count": 15,
     "metadata": {},
     "output_type": "execute_result"
    },
    {
     "data": {
      "image/png": "[encoded data removed]",
      "text/plain": [
       "<Figure size 640x480 with 1 Axes>"
      ]
     },
     "metadata": {},
     "output_type": "display_data"
    }
   ],
   "source": [
    "\n",
    "inputs, truth = next(dataloader_it)\n",
    "inputs_emb = net.encoder(inputs[:1])\n",
    "\n",
    "# print(f\"{inputs=}\")\n",
    "# print(f\"{inputs.shape=}\")\n",
    "# print(f\"{inputs[0].shape=}\")\n",
    "s = textmap.to_str(inputs[0])\n",
    "s = s.replace(\"\\n\", \"^\")\n",
    "print(s)\n",
    "digits = \" 123456789\" * (len(s) // 10 + 1)\n",
    "digits = digits[:len(s)]\n",
    "digits2 = \"\".join([(str(d) + \" \" * 9) for d in range(len(s) // 10 + 1)])\n",
    "print(digits)\n",
    "print(digits2)                   \n",
    "\n",
    "seq_len = inputs.shape[-1]\n",
    "mask = mxt.generate_square_subsequent_mask(seq_len, device=\"cuda\")\n",
    "inputs = net.encoder(inputs) * math.sqrt(net.emb_len)\n",
    "inputs = net.pos_encoder(inputs)\n",
    "inputs = inputs.transpose(0, 1)\n",
    "output = net.transformer_encoder(inputs, mask)\n",
    "output = output.transpose(1, 0)\n",
    "\n",
    "plt.imshow(output[0].softmax(dim=-1).detach().cpu(), cmap='gray')"
   ]
  },
  {
   "cell_type": "code",
   "execution_count": 101,
   "id": "b0098659-691d-4ee7-897f-94ffbd81d8d0",
   "metadata": {},
   "outputs": [
    {
     "data": {
      "text/plain": [
       "torch.Size([3, 3])"
      ]
     },
     "execution_count": 101,
     "metadata": {},
     "output_type": "execute_result"
    }
   ],
   "source": []
  },
  {
   "cell_type": "code",
   "execution_count": null,
   "id": "a2520c0a-2e1b-40c7-bf5e-4e9499adb91d",
   "metadata": {},
   "outputs": [],
   "source": []
  }
 ],
 "metadata": {
  "kernelspec": {
   "display_name": "Python 3 (ipykernel)",
   "language": "python",
   "name": "python3"
  },
  "language_info": {
   "codemirror_mode": {
    "name": "ipython",
    "version": 3
   },
   "file_extension": ".py",
   "mimetype": "text/x-python",
   "name": "python",
   "nbconvert_exporter": "python",
   "pygments_lexer": "ipython3",
   "version": "3.10.9"
  }
 },
 "nbformat": 4,
 "nbformat_minor": 5
}
