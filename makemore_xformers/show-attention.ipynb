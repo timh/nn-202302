{
 "cells": [
  {
   "cell_type": "code",
   "execution_count": 36,
   "id": "31521aa9-8e77-4076-88ee-86be422ab49d",
   "metadata": {},
   "outputs": [],
   "source": [
    "import sys\n",
    "import torch\n",
    "from torch.utils.data import DataLoader\n",
    "sys.path.insert(0, \"..\")\n",
    "import model_xformers\n",
    "\n",
    "filename = \"runs/mm-ss3c-batch_size 2048, batches_per_epoch 4, dropout 0.2, numchar 64, nblock 2, nhead 4, emb_len 12.torch\"\n",
    "\n",
    "net: model_xformers.LangModel = torch.load(filename)\n"
   ]
  },
  {
   "cell_type": "code",
   "execution_count": 53,
   "id": "f38891aa-58f7-4a7d-99da-78506c18a84e",
   "metadata": {},
   "outputs": [],
   "source": [
    "textmap = net.textmap\n",
    "all_pairs = textmap.as_pairs()\n",
    "dataloader = DataLoader(all_pairs, batch_size=1, shuffle=True)\n",
    "\n",
    "dataloader_it = iter(dataloader)\n"
   ]
  },
  {
   "cell_type": "code",
   "execution_count": 93,
   "id": "9237f4bd-43b6-43fc-bdaa-69f36d9b5f75",
   "metadata": {},
   "outputs": [
    {
     "name": "stdout",
     "output_type": "stream",
     "text": [
      "d so doth mine: I muse why she's at liberty.^^GLOUCESTER:^I cann\n",
      " 123456789 123456789 123456789 123456789 123456789 123456789 123\n",
      "0         1         2         3         4         5         6         \n"
     ]
    },
    {
     "data": {
      "text/plain": [
       "<matplotlib.image.AxesImage at 0x7fbf693525f0>"
      ]
     },
     "execution_count": 93,
     "metadata": {},
     "output_type": "execute_result"
    },
    {
     "data": {
      "image/png": "[encoded data removed]",
      "text/plain": [
       "<Figure size 640x480 with 1 Axes>"
      ]
     },
     "metadata": {},
     "output_type": "display_data"
    }
   ],
   "source": [
    "import matplotlib.pyplot as plt\n",
    "\n",
    "inputs, truth = next(dataloader_it)\n",
    "inputs_emb = net.tok_embedding(inputs) + net.pos_embedding(torch.arange(0, 64, device=\"cuda\"))\n",
    "\n",
    "# print(f\"{inputs=}\")\n",
    "# print(f\"{inputs.shape=}\")\n",
    "# print(f\"{inputs[0].shape=}\")\n",
    "s = \"\".join(textmap.token_to_char[t.item()] for t in inputs[0])\n",
    "s = s.replace(\"\\n\", \"^\")\n",
    "print(s)\n",
    "digits = \" 123456789\" * (len(s) // 10 + 1)\n",
    "digits = digits[:len(s)]\n",
    "digits2 = \"\".join([(str(d) + \" \" * 9) for d in range(len(s) // 10 + 1)])\n",
    "print(digits)\n",
    "print(digits2)                   \n",
    "\n",
    "block0 = net.blocks[0]\n",
    "heads = block0.mh_attn.heads\n",
    "\n",
    "qs = [head(inputs_emb) for block in net.blocks for head in block.mh_attn.heads]\n",
    "# print(f\"{qs[0].shape}\")\n",
    "q = torch.cat(qs, dim=-1)\n",
    "# print(f\"{q.shape=}\")\n",
    "q = q[0].transpose(0, 1)\n",
    "# print(f\"{q.shape=}\")\n",
    "\n",
    "plt.imshow(q.softmax(dim=-1).detach().cpu(), cmap='gray')"
   ]
  },
  {
   "cell_type": "code",
   "execution_count": 75,
   "id": "b0098659-691d-4ee7-897f-94ffbd81d8d0",
   "metadata": {},
   "outputs": [
    {
     "data": {
      "text/plain": [
       "(tensor([[50,  1, 56, 43, 55, 59, 47, 58, 43,  1, 58, 46, 47, 57,  1, 49, 47, 52,\n",
       "          42, 52, 43, 57, 57,  8,  0, 26, 53, 61,  6,  1, 44, 53, 56,  1, 58, 46,\n",
       "          47, 57,  1, 52, 47, 45, 46, 58,  6,  1, 50, 43, 58,  5, 57,  1, 46, 39,\n",
       "          56, 40, 53, 59, 56,  1, 46, 43, 56, 43]], device='cuda:0'),\n",
       " tensor([[ 1, 56, 43, 55, 59, 47, 58, 43,  1, 58, 46, 47, 57,  1, 49, 47, 52, 42,\n",
       "          52, 43, 57, 57,  8,  0, 26, 53, 61,  6,  1, 44, 53, 56,  1, 58, 46, 47,\n",
       "          57,  1, 52, 47, 45, 46, 58,  6,  1, 50, 43, 58,  5, 57,  1, 46, 39, 56,\n",
       "          40, 53, 59, 56,  1, 46, 43, 56, 43,  1]], device='cuda:0'))"
      ]
     },
     "execution_count": 75,
     "metadata": {},
     "output_type": "execute_result"
    }
   ],
   "source": [
    "inputs, truth"
   ]
  }
 ],
 "metadata": {
  "kernelspec": {
   "display_name": "Python 3 (ipykernel)",
   "language": "python",
   "name": "python3"
  },
  "language_info": {
   "codemirror_mode": {
    "name": "ipython",
    "version": 3
   },
   "file_extension": ".py",
   "mimetype": "text/x-python",
   "name": "python",
   "nbconvert_exporter": "python",
   "pygments_lexer": "ipython3",
   "version": "3.10.9"
  }
 },
 "nbformat": 4,
 "nbformat_minor": 5
}
