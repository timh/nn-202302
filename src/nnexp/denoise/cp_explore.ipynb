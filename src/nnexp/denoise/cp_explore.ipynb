{
 "cells": [
  {
   "cell_type": "code",
   "execution_count": null,
   "metadata": {},
   "outputs": [],
   "source": [
    "from typing import Set\n",
    "import matplotlib.pyplot as plt\n",
    "import matplotlib.axes as axes\n",
    "\n",
    "import sys\n",
    "sys.path.append(\"../..\")\n",
    "from nnexp import checkpoint_util\n",
    "from nnexp.experiment import Experiment\n",
    "\n",
    "def plot_one(exp: Experiment, axes: axes.Axes, field: str, label: str):\n",
    "    if field == 'val_loss_hist':\n",
    "        if len(exp.val_loss_hist):\n",
    "            hist_x, hist_y = zip(*exp.val_loss_hist)\n",
    "        else:\n",
    "            hist_x, hist_y = list(), list()\n",
    "    else:\n",
    "        hist_val = getattr(exp, field, None)\n",
    "        if hist_val is None:\n",
    "            return\n",
    "        hist_x = list(range(len(hist_val)))\n",
    "        hist_y = hist_val\n",
    "\n",
    "    # if len(hist_y):\n",
    "    #     # axes.set_ylim(ymin=min(hist_y), ymax=max(hist_y))\n",
    "    #     axes.set_ylim(ymax=.02, ymin=(min(hist_y) * 0.8))\n",
    "    axes.plot(hist_x, hist_y, label=label)\n",
    "    axes.legend()\n",
    "\n",
    "exps = checkpoint_util.list_experiments()\n",
    "# exps = [exp for exp in exps if exp.shortcode == 'gdyfmh']\n",
    "# exps = [exp for exp in exps if exp.shortcode in ['suhuab', 'edxhmm', 'idsdex']]\n",
    "exps = [exp for exp in exps if exp.net_class == 'EmbedToLatent']\n",
    "\n",
    "print(f\"{len(exps)=}\")\n",
    "# exps = [exp for exp in exps\n",
    "#         if exp.net_class == 'Unet'\n",
    "#         # and exp.net_image_size == 256\n",
    "#         and exp.image_size == 256\n",
    "#         and exp.nepochs > 0]\n",
    "\n",
    "field_map = {\n",
    "    'train_loss_hist': 'training loss',\n",
    "    'val_loss_hist': 'validation loss',\n",
    "    # 'backing_loss_hist': 'backing loss',\n",
    "    # 'kld_loss_hist': 'kl/d loss'\n",
    "}\n",
    "\n",
    "nrows = len(field_map)\n",
    "fig = plt.figure(1, figsize=(15, 10 * nrows), layout='tight')\n",
    "axes_list = fig.subplots(nrows=nrows, ncols=1)\n",
    "\n",
    "for axes, (field, field_label) in zip(axes_list, field_map.items()):\n",
    "    axes.set_title(field_label)\n",
    "    for exp in exps:\n",
    "        plot_one(exp, axes, field, f\"{exp.shortcode}: {exp.nepochs}\")\n"
   ]
  },
  {
   "cell_type": "code",
   "execution_count": 3,
   "metadata": {},
   "outputs": [
    {
     "data": {
      "text/plain": [
       "[ExpRun(max_epochs=32, finished=False, batch_size=3, grad_accum=0, do_compile=True, use_amp=True, startlr=0.002, endlr=0.0002, optim_type='adamw', sched_type='nanogpt', sched_warmup_epochs=2, started_at=datetime.datetime(2023, 4, 8, 1, 23, 2), ended_at=None, checkpoint_nepochs=0, checkpoint_nbatches=1815, checkpoint_nsamples=5443, checkpoint_at=datetime.datetime(2023, 4, 8, 1, 30, 39), checkpoint_path=PosixPath('runs/checkpoints-ae/20230408-012301-idsdex--k3-s1-256x2-s2-256-s1-128x2-s2-128-s1-64x2-s2-64-s1-8,enc_kern_3,klw_2.0E-05,latdim_8_64_64,ratio_0.042,loss_edge+l2_sqrt+kl/epoch_0000--20230408-012301--tloss.ckpt'), resumed_from=None),\n",
       " ExpRun(max_epochs=32, finished=False, batch_size=3, grad_accum=0, do_compile=True, use_amp=True, startlr=0.002, endlr=0.0002, optim_type='adamw', sched_type='nanogpt', sched_warmup_epochs=2, started_at=datetime.datetime(2023, 4, 8, 1, 23, 2), ended_at=None, checkpoint_nepochs=0, checkpoint_nbatches=1815, checkpoint_nsamples=5443, checkpoint_at=datetime.datetime(2023, 4, 8, 1, 30, 39), checkpoint_path=PosixPath('runs/checkpoints-ae/20230408-012301-idsdex--k3-s1-256x2-s2-256-s1-128x2-s2-128-s1-64x2-s2-64-s1-8,enc_kern_3,klw_2.0E-05,latdim_8_64_64,ratio_0.042,loss_edge+l2_sqrt+kl/epoch_0000--20230408-012301--vloss.ckpt'), resumed_from=None),\n",
       " ExpRun(max_epochs=32, finished=False, batch_size=3, grad_accum=0, do_compile=True, use_amp=True, startlr=0.002, endlr=0.0002, optim_type='adamw', sched_type='nanogpt', sched_warmup_epochs=2, started_at=datetime.datetime(2023, 4, 8, 1, 36, 11), ended_at=None, checkpoint_nepochs=29, checkpoint_nbatches=54450, checkpoint_nsamples=163290, checkpoint_at=datetime.datetime(2023, 4, 8, 5, 7, 57), checkpoint_path=PosixPath('runs/checkpoints-ae/20230408-012301-idsdex--k3-s1-256x2-s2-256-s1-128x2-s2-128-s1-64x2-s2-64-s1-8,enc_kern_3,klw_2.0E-05,latdim_8_64_64,ratio_0.042,loss_edge+l2_sqrt+kl/epoch_0029--20230408-013610--vloss.ckpt'), resumed_from=PosixPath('runs/checkpoints-ae/20230408-012301-idsdex--k3-s1-256x2-s2-256-s1-128x2-s2-128-s1-64x2-s2-64-s1-8,enc_kern_3,klw_2.0E-05,latdim_8_64_64,ratio_0.042,loss_edge+l2_sqrt+kl/epoch_0000--20230408-012301--vloss.ckpt')),\n",
       " ExpRun(max_epochs=32, finished=False, batch_size=3, grad_accum=0, do_compile=True, use_amp=True, startlr=0.002, endlr=0.0002, optim_type='adamw', sched_type='nanogpt', sched_warmup_epochs=2, started_at=datetime.datetime(2023, 4, 8, 1, 36, 11), ended_at=None, checkpoint_nepochs=31, checkpoint_nbatches=58080, checkpoint_nsamples=174176, checkpoint_at=datetime.datetime(2023, 4, 8, 5, 22, 57), checkpoint_path=PosixPath('runs/checkpoints-ae/20230408-012301-idsdex--k3-s1-256x2-s2-256-s1-128x2-s2-128-s1-64x2-s2-64-s1-8,enc_kern_3,klw_2.0E-05,latdim_8_64_64,ratio_0.042,loss_edge+l2_sqrt+kl/epoch_0031--20230408-013610--tloss.ckpt'), resumed_from=PosixPath('runs/checkpoints-ae/20230408-012301-idsdex--k3-s1-256x2-s2-256-s1-128x2-s2-128-s1-64x2-s2-64-s1-8,enc_kern_3,klw_2.0E-05,latdim_8_64_64,ratio_0.042,loss_edge+l2_sqrt+kl/epoch_0000--20230408-012301--vloss.ckpt')),\n",
       " ExpRun(max_epochs=100, finished=False, batch_size=3, grad_accum=0, do_compile=True, use_amp=True, startlr=0.002, endlr=0.0002, optim_type='adamw', sched_type='nanogpt', sched_warmup_epochs=2, started_at=datetime.datetime(2023, 4, 8, 11, 7, 4), ended_at=None, checkpoint_nepochs=45, checkpoint_nbatches=83490, checkpoint_nsamples=250378, checkpoint_at=datetime.datetime(2023, 4, 8, 12, 47, 6), checkpoint_path=PosixPath('runs/checkpoints-ae/20230408-012301-idsdex--k3-s1-256x2-s2-256-s1-128x2-s2-128-s1-64x2-s2-64-s1-8,enc_kern_3,klw_2.0E-05,latdim_8_64_64,ratio_0.042,loss_edge+l2_sqrt+kl/epoch_0045--20230408-110703--vloss.ckpt'), resumed_from=PosixPath('runs/checkpoints-ae/20230408-012301-idsdex--k3-s1-256x2-s2-256-s1-128x2-s2-128-s1-64x2-s2-64-s1-8,enc_kern_3,klw_2.0E-05,latdim_8_64_64,ratio_0.042,loss_edge+l2_sqrt+kl/epoch_0031--20230408-013610--tloss.ckpt')),\n",
       " ExpRun(max_epochs=100, finished=False, batch_size=3, grad_accum=0, do_compile=True, use_amp=True, startlr=0.002, endlr=0.0002, optim_type='adamw', sched_type='nanogpt', sched_warmup_epochs=2, started_at=datetime.datetime(2023, 4, 8, 11, 7, 4), ended_at=None, checkpoint_nepochs=46, checkpoint_nbatches=85305, checkpoint_nsamples=255821, checkpoint_at=datetime.datetime(2023, 4, 8, 12, 54, 14), checkpoint_path=PosixPath('runs/checkpoints-ae/20230408-012301-idsdex--k3-s1-256x2-s2-256-s1-128x2-s2-128-s1-64x2-s2-64-s1-8,enc_kern_3,klw_2.0E-05,latdim_8_64_64,ratio_0.042,loss_edge+l2_sqrt+kl/epoch_0046--20230408-110703--tloss.ckpt'), resumed_from=PosixPath('runs/checkpoints-ae/20230408-012301-idsdex--k3-s1-256x2-s2-256-s1-128x2-s2-128-s1-64x2-s2-64-s1-8,enc_kern_3,klw_2.0E-05,latdim_8_64_64,ratio_0.042,loss_edge+l2_sqrt+kl/epoch_0031--20230408-013610--tloss.ckpt')),\n",
       " ExpRun(max_epochs=100, finished=False, batch_size=3, grad_accum=0, do_compile=True, use_amp=True, startlr=0.002, endlr=0.0002, optim_type='adamw', sched_type='nanogpt', sched_warmup_epochs=2, started_at=datetime.datetime(2023, 4, 8, 13, 16, 31), ended_at=None, checkpoint_nepochs=66, checkpoint_nbatches=121605, checkpoint_nsamples=364681, checkpoint_at=datetime.datetime(2023, 4, 8, 15, 39, 34), checkpoint_path=PosixPath('runs/checkpoints-ae/20230408-012301-idsdex--k3-s1-256x2-s2-256-s1-128x2-s2-128-s1-64x2-s2-64-s1-8,enc_kern_3,klw_2.0E-05,latdim_8_64_64,ratio_0.042,loss_edge+l2_sqrt+kl/epoch_0066--20230408-131630--tloss.ckpt'), resumed_from=PosixPath('runs/checkpoints-ae/20230408-012301-idsdex--k3-s1-256x2-s2-256-s1-128x2-s2-128-s1-64x2-s2-64-s1-8,enc_kern_3,klw_2.0E-05,latdim_8_64_64,ratio_0.042,loss_edge+l2_sqrt+kl/epoch_0046--20230408-110703--tloss.ckpt')),\n",
       " ExpRun(max_epochs=100, finished=False, batch_size=3, grad_accum=0, do_compile=True, use_amp=True, startlr=0.002, endlr=0.0002, optim_type='adamw', sched_type='nanogpt', sched_warmup_epochs=2, started_at=datetime.datetime(2023, 4, 8, 13, 16, 31), ended_at=None, checkpoint_nepochs=66, checkpoint_nbatches=121605, checkpoint_nsamples=364681, checkpoint_at=datetime.datetime(2023, 4, 8, 15, 39, 35), checkpoint_path=PosixPath('runs/checkpoints-ae/20230408-012301-idsdex--k3-s1-256x2-s2-256-s1-128x2-s2-128-s1-64x2-s2-64-s1-8,enc_kern_3,klw_2.0E-05,latdim_8_64_64,ratio_0.042,loss_edge+l2_sqrt+kl/epoch_0066--20230408-131630--vloss.ckpt'), resumed_from=PosixPath('runs/checkpoints-ae/20230408-012301-idsdex--k3-s1-256x2-s2-256-s1-128x2-s2-128-s1-64x2-s2-64-s1-8,enc_kern_3,klw_2.0E-05,latdim_8_64_64,ratio_0.042,loss_edge+l2_sqrt+kl/epoch_0046--20230408-110703--tloss.ckpt'))]"
      ]
     },
     "execution_count": 3,
     "metadata": {},
     "output_type": "execute_result"
    }
   ],
   "source": [
    "idsdex = checkpoint_util.find_experiment(\"idsdex\")\n",
    "idsdex.runs"
   ]
  }
 ],
 "metadata": {
  "kernelspec": {
   "display_name": "nn-nightly",
   "language": "python",
   "name": "python3"
  },
  "language_info": {
   "codemirror_mode": {
    "name": "ipython",
    "version": 3
   },
   "file_extension": ".py",
   "mimetype": "text/x-python",
   "name": "python",
   "nbconvert_exporter": "python",
   "pygments_lexer": "ipython3",
   "version": "3.10.9"
  },
  "orig_nbformat": 4
 },
 "nbformat": 4,
 "nbformat_minor": 2
}
