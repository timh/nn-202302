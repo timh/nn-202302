{
 "cells": [
  {
   "cell_type": "code",
   "execution_count": 8,
   "metadata": {},
   "outputs": [
    {
     "ename": "TypeError",
     "evalue": "ImageTrainer.__init__() takes from 5 to 6 positional arguments but 8 were given",
     "output_type": "error",
     "traceback": [
      "\u001b[0;31m---------------------------------------------------------------------------\u001b[0m",
      "\u001b[0;31mTypeError\u001b[0m                                 Traceback (most recent call last)",
      "Cell \u001b[0;32mIn[8], line 7\u001b[0m\n\u001b[1;32m      5\u001b[0m importlib\u001b[39m.\u001b[39mreload(outpaint)\n\u001b[1;32m      6\u001b[0m importlib\u001b[39m.\u001b[39mreload(trainer)\n\u001b[0;32m----> 7\u001b[0m outpaint\u001b[39m.\u001b[39;49mmain(\u001b[39m\"\u001b[39;49m\u001b[39malex-outpaint-128\u001b[39;49m\u001b[39m\"\u001b[39;49m, \u001b[39m200\u001b[39;49m, \u001b[39mTrue\u001b[39;49;00m)\n",
      "File \u001b[0;32m~/devel/nnfs/outpaint.py:187\u001b[0m, in \u001b[0;36mmain\u001b[0;34m(dirname, epochs, do_display)\u001b[0m\n\u001b[1;32m    184\u001b[0m loss_fn \u001b[39m=\u001b[39m nn\u001b[39m.\u001b[39mMSELoss()\n\u001b[1;32m    185\u001b[0m \u001b[39m# timutil.train2(dataloader, dirname, net, loss_fn, optimizer, epochs, device, do_display)\u001b[39;00m\n\u001b[1;32m    186\u001b[0m \u001b[39m# t = trainer.ImageTrainer(dirname, net, loss_fn, optimizer)\u001b[39;00m\n\u001b[0;32m--> 187\u001b[0m t \u001b[39m=\u001b[39m OutputTrainer(dataloader\u001b[39m.\u001b[39;49m_dataloader, chunk_size, device,\n\u001b[1;32m    188\u001b[0m                   dirname, net, loss_fn, optimizer,\n\u001b[1;32m    189\u001b[0m                   \u001b[39m36\u001b[39;49m)\n\u001b[1;32m    190\u001b[0m t\u001b[39m.\u001b[39mtrain(dataloader, epochs, device, \u001b[39mTrue\u001b[39;00m)\n",
      "File \u001b[0;32m~/devel/nnfs/outpaint.py:82\u001b[0m, in \u001b[0;36mOutputTrainer.__init__\u001b[0;34m(self, dataloader, chunk_size, device, dirname, net, loss_fn, optimizer, grid_num_images)\u001b[0m\n\u001b[1;32m     78\u001b[0m \u001b[39mdef\u001b[39;00m \u001b[39m__init__\u001b[39m(\u001b[39mself\u001b[39m, dataloader: DataLoader, chunk_size: \u001b[39mint\u001b[39m, device: \u001b[39mstr\u001b[39m,\n\u001b[1;32m     79\u001b[0m              dirname: \u001b[39mstr\u001b[39m, net: nn\u001b[39m.\u001b[39mModule, loss_fn: nn\u001b[39m.\u001b[39mModule, optimizer: torch\u001b[39m.\u001b[39moptim\u001b[39m.\u001b[39mOptimizer, \n\u001b[1;32m     80\u001b[0m              grid_num_images: \u001b[39mint\u001b[39m):\n\u001b[1;32m     81\u001b[0m     \u001b[39m# pass in the *real* dataloader, not the chunk one\u001b[39;00m\n\u001b[0;32m---> 82\u001b[0m     \u001b[39msuper\u001b[39;49m()\u001b[39m.\u001b[39;49m\u001b[39m__init__\u001b[39;49m(dirname, net, loss_fn, optimizer, \u001b[39m2\u001b[39;49m, \u001b[39m4\u001b[39;49m, grid_num_images)\n\u001b[1;32m     83\u001b[0m     \u001b[39mself\u001b[39m\u001b[39m.\u001b[39m_dataloader \u001b[39m=\u001b[39m dataloader\n\u001b[1;32m     84\u001b[0m     \u001b[39mself\u001b[39m\u001b[39m.\u001b[39m_chunk_size \u001b[39m=\u001b[39m chunk_size\n",
      "\u001b[0;31mTypeError\u001b[0m: ImageTrainer.__init__() takes from 5 to 6 positional arguments but 8 were given"
     ]
    }
   ],
   "source": [
    "%matplotlib inline\n",
    "import importlib\n",
    "import outpaint\n",
    "import trainer\n",
    "importlib.reload(outpaint)\n",
    "importlib.reload(trainer)\n",
    "outpaint.main(\"alex-outpaint-128\", 200, True)"
   ]
  }
 ],
 "metadata": {
  "kernelspec": {
   "display_name": "diffusers",
   "language": "python",
   "name": "python3"
  },
  "language_info": {
   "codemirror_mode": {
    "name": "ipython",
    "version": 3
   },
   "file_extension": ".py",
   "mimetype": "text/x-python",
   "name": "python",
   "nbconvert_exporter": "python",
   "pygments_lexer": "ipython3",
   "version": "3.10.8"
  },
  "orig_nbformat": 4,
  "vscode": {
   "interpreter": {
    "hash": "f2e4ad7cba72cac7676a24c47a5621d2e895387d4b9b749bc7ccc706239c0d64"
   }
  }
 },
 "nbformat": 4,
 "nbformat_minor": 2
}
